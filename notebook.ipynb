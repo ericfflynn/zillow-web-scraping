{
 "cells": [
  {
   "attachments": {},
   "cell_type": "markdown",
   "metadata": {},
   "source": [
    "# Web Scraping Real-Estate Data from Zillow\n",
    "## *A Data Engineering Exercise*\n",
    "### Scope:\n",
    "* New York, NY Search Query\n",
    "* Apartments Only</br>\n",
    "\n",
    "\n",
    "*This project is for research purposes only. None of the data is being scraped is being sold or utilized for commercial purposes in any way*"
   ]
  },
  {
   "attachments": {},
   "cell_type": "markdown",
   "metadata": {},
   "source": [
    "# Getting The Data"
   ]
  },
  {
   "cell_type": "code",
   "execution_count": 10,
   "metadata": {},
   "outputs": [],
   "source": [
    "import requests\n",
    "from bs4 import BeautifulSoup\n",
    "\n",
    "header = {\"User-Agent\": \"Mozilla/5.0 (Macintosh; Intel Mac OS X 10_15_7) AppleWebKit/537.36 (KHTML, like Gecko) Chrome/92.0.4515.159 Safari/537.36\"}\n",
    "response = requests.get(\"https://www.zillow.com/new-york-ny/apartments/\", headers=header).text\n",
    "soup = BeautifulSoup(response, 'html.parser')\n",
    "apts = soup.find_all(\"div\", {\"class\": \"StyledPropertyCardDataWrapper-c11n-8-85-1__sc-1omp4c3-0 jVBMsP property-card-data\"})"
   ]
  },
  {
   "cell_type": "code",
   "execution_count": 11,
   "metadata": {},
   "outputs": [
    {
     "name": "stdout",
     "output_type": "stream",
     "text": [
      "<div class=\"StyledPropertyCardDataWrapper-c11n-8-85-1__sc-1omp4c3-0 jVBMsP property-card-data\"><a class=\"StyledPropertyCardDataArea-c11n-8-85-1__sc-yipmu-0 gdfTyO property-card-link\" data-test=\"property-card-link\" href=\"https://www.zillow.com/apartments/arverne-ny/the-tides-at-arverne-by-the-sea/BLWH7Z/\" tabindex=\"0\"><address data-test=\"property-card-addr\">The Tides At Arverne By The Sea, 190 Beach 69th St, Arverne, NY 11692</address></a><div class=\"StyledPropertyCardDataArea-c11n-8-85-1__sc-yipmu-0 cWiizR\"></div><div class=\"StyledPropertyCardDataArea-c11n-8-85-1__sc-yipmu-0 bqsBln\"><span data-test=\"property-card-price\">$4,200+/mo</span></div><div class=\"StyledPropertyCardDataArea-c11n-8-85-1__sc-yipmu-0 gxlfal\"><ul class=\"StyledPropertyCardHomeDetailsList-c11n-8-85-1__sc-1xvdaej-0 dmDolk\"><li><b>2</b> <abbr>bds</abbr></li><li><b>2</b> <abbr>ba</abbr></li><li><b>906</b> <abbr>sqft</abbr></li></ul> <!-- -->- Apartment for rent</div></div>\n"
     ]
    }
   ],
   "source": [
    "print(apts[0])"
   ]
  },
  {
   "attachments": {},
   "cell_type": "markdown",
   "metadata": {},
   "source": [
    "## Parse soup data to extract relevent info then append into a master list"
   ]
  },
  {
   "cell_type": "code",
   "execution_count": 12,
   "metadata": {},
   "outputs": [],
   "source": [
    "list = []\n",
    "obj = {}\n",
    "\n",
    "for a in range(0, len(apts)):\n",
    "    try:\n",
    "        obj[\"pricing\"] = apts[a].find(\"div\", {\"class\": \"StyledPropertyCardDataArea-c11n-8-85-1__sc-yipmu-0 bqsBln\"}).text\n",
    "    except: obj[\"pricing\"] = None\n",
    "    try:\n",
    "        obj[\"address\"] = apts[a].find(\"a\", {\"class\": \"StyledPropertyCardDataArea-c11n-8-85-1__sc-yipmu-0 gdfTyO property-card-link\"}).text\n",
    "    except:\n",
    "        obj[\"address\"] = None\n",
    "    try:\n",
    "        obj[\"space\"] = apts[a].find(\"div\", {\"class\": \"StyledPropertyCardDataArea-c11n-8-85-1__sc-yipmu-0 gxlfal\"}).text\n",
    "    except:\n",
    "        obj[\"space\"] = None\n",
    "    list.append(obj)\n",
    "    obj = {}"
   ]
  },
  {
   "cell_type": "code",
   "execution_count": 13,
   "metadata": {},
   "outputs": [
    {
     "name": "stdout",
     "output_type": "stream",
     "text": [
      "9\n",
      "{'pricing': '$4,200+/mo', 'address': 'The Tides At Arverne By The Sea, 190 Beach 69th St, Arverne, NY 11692', 'space': '2 bds2 ba906 sqft - Apartment for rent'}\n",
      "{'pricing': '$3,391/mo', 'address': 'RiverTrace at Port Imperial, 11 Avenue At Port Rte #718, West New York, NJ 07093', 'space': '1 bd1 ba765 sqft - Apartment for rent'}\n",
      "{'pricing': '$4,109+ Studio', 'address': 'Oriana | 420 E 54th St, New York, NY', 'space': '$5,326+ 1 bd$6,636+ 2 bds$11,672+ 3 bds '}\n",
      "{'pricing': '$3,575+ Studio', 'address': 'Waterside | 25 Waterside Plz, New York, NY', 'space': '$3,995+ 1 bd$5,525+ 2 bds$7,875+ 3 bds '}\n",
      "{'pricing': '$3,245+ Studio', 'address': 'THE BELLSLIP | 1 Bell Slip, Brooklyn, NY', 'space': '$4,723+ 1 bd$6,600+ 2 bds '}\n",
      "{'pricing': '$6,720+ 2 bds', 'address': '15 Cliff | 15 Cliff St, New York, NY', 'space': ' '}\n",
      "{'pricing': '$3,815+ Studio', 'address': 'AVA High Line | 525 W 28th St, New York, NY', 'space': '$4,445+ 1 bd$7,155+ 2 bds '}\n",
      "{'pricing': '$4,953+ Studio', 'address': 'The Chelsea | 160 W 24th St, New York, NY', 'space': '$5,727+ 1 bd$6,672+ 2 bds '}\n",
      "{'pricing': '$4,440+ Studio', 'address': 'Avalon Morningside Park | 1 Morningside Dr, New York, NY', 'space': '$5,060+ 1 bd$6,735+ 2 bds$8,795+ 3 bds '}\n"
     ]
    }
   ],
   "source": [
    "print(len(list))\n",
    "for i in list:\n",
    "    print(i)"
   ]
  },
  {
   "attachments": {},
   "cell_type": "markdown",
   "metadata": {},
   "source": [
    "## Putting it all together\n",
    "Request and parse 50 pages of results, and then write the results to a local json file"
   ]
  },
  {
   "cell_type": "code",
   "execution_count": 14,
   "metadata": {},
   "outputs": [],
   "source": [
    "import requests\n",
    "from bs4 import BeautifulSoup\n",
    "import json\n",
    "\n",
    "finalList = []\n",
    "\n",
    "header = {\"User-Agent\": \"Mozilla/5.0 (Macintosh; Intel Mac OS X 10_15_7) AppleWebKit/537.36 (KHTML, like Gecko) Chrome/92.0.4515.159 Safari/537.36\"}\n",
    "for page in range(1,51):\n",
    "    try:\n",
    "        response = requests.get(f\"https://www.zillow.com/new-york-ny/apartments/{page}_p\", headers=header).text\n",
    "        soup = BeautifulSoup(response, 'html.parser')\n",
    "        apts = soup.find_all(\"div\", {\"class\": \"StyledPropertyCardDataWrapper-c11n-8-85-1__sc-1omp4c3-0 jVBMsP property-card-data\"})\n",
    "\n",
    "        list = []\n",
    "        obj = {}\n",
    "\n",
    "        for a in range(0, len(apts)):\n",
    "            try:\n",
    "                obj[\"pricing\"] = apts[a].find(\"div\", {\"class\": \"StyledPropertyCardDataArea-c11n-8-85-1__sc-yipmu-0 bqsBln\"}).text\n",
    "            except: obj[\"pricing\"] = None\n",
    "            try:\n",
    "                obj[\"address\"] = apts[a].find(\"a\", {\"class\": \"StyledPropertyCardDataArea-c11n-8-85-1__sc-yipmu-0 gdfTyO property-card-link\"}).text\n",
    "            except:\n",
    "                obj[\"address\"] = None\n",
    "            try:\n",
    "                obj[\"space\"] = apts[a].find(\"div\", {\"class\": \"StyledPropertyCardDataArea-c11n-8-85-1__sc-yipmu-0 gxlfal\"}).text\n",
    "            except:\n",
    "                obj[\"space\"] = None\n",
    "            list.append(obj)\n",
    "            obj = {}\n",
    "\n",
    "        finalList.append(list)\n",
    "    except:\n",
    "        pass\n",
    "    \n",
    "with open(\"./output.json\", \"w+\", encoding='utf-8') as file:\n",
    "    json.dump(finalList, file, ensure_ascii=False, indent=4)"
   ]
  },
  {
   "attachments": {},
   "cell_type": "markdown",
   "metadata": {},
   "source": [
    "# Data Processing I\n",
    "* Read from json\n",
    "* Flatten list of lists into single list\n",
    "* Create dataframe and save to csv"
   ]
  },
  {
   "cell_type": "code",
   "execution_count": 15,
   "metadata": {},
   "outputs": [
    {
     "data": {
      "text/html": [
       "<div>\n",
       "<style scoped>\n",
       "    .dataframe tbody tr th:only-of-type {\n",
       "        vertical-align: middle;\n",
       "    }\n",
       "\n",
       "    .dataframe tbody tr th {\n",
       "        vertical-align: top;\n",
       "    }\n",
       "\n",
       "    .dataframe thead th {\n",
       "        text-align: right;\n",
       "    }\n",
       "</style>\n",
       "<table border=\"1\" class=\"dataframe\">\n",
       "  <thead>\n",
       "    <tr style=\"text-align: right;\">\n",
       "      <th></th>\n",
       "      <th>pricing</th>\n",
       "      <th>address</th>\n",
       "      <th>space</th>\n",
       "    </tr>\n",
       "  </thead>\n",
       "  <tbody>\n",
       "    <tr>\n",
       "      <th>0</th>\n",
       "      <td>$4,200+/mo</td>\n",
       "      <td>The Tides At Arverne By The Sea, 190 Beach 69t...</td>\n",
       "      <td>2 bds2 ba906 sqft - Apartment for rent</td>\n",
       "    </tr>\n",
       "    <tr>\n",
       "      <th>1</th>\n",
       "      <td>$3,391/mo</td>\n",
       "      <td>RiverTrace at Port Imperial, 11 Avenue At Port...</td>\n",
       "      <td>1 bd1 ba765 sqft - Apartment for rent</td>\n",
       "    </tr>\n",
       "    <tr>\n",
       "      <th>2</th>\n",
       "      <td>$4,109+ Studio</td>\n",
       "      <td>Oriana | 420 E 54th St, New York, NY</td>\n",
       "      <td>$5,326+ 1 bd$6,636+ 2 bds$11,672+ 3 bds</td>\n",
       "    </tr>\n",
       "    <tr>\n",
       "      <th>3</th>\n",
       "      <td>$3,575+ Studio</td>\n",
       "      <td>Waterside | 25 Waterside Plz, New York, NY</td>\n",
       "      <td>$3,995+ 1 bd$5,525+ 2 bds$7,875+ 3 bds</td>\n",
       "    </tr>\n",
       "    <tr>\n",
       "      <th>4</th>\n",
       "      <td>$3,245+ Studio</td>\n",
       "      <td>THE BELLSLIP | 1 Bell Slip, Brooklyn, NY</td>\n",
       "      <td>$4,723+ 1 bd$6,600+ 2 bds</td>\n",
       "    </tr>\n",
       "  </tbody>\n",
       "</table>\n",
       "</div>"
      ],
      "text/plain": [
       "          pricing                                            address  \\\n",
       "0      $4,200+/mo  The Tides At Arverne By The Sea, 190 Beach 69t...   \n",
       "1       $3,391/mo  RiverTrace at Port Imperial, 11 Avenue At Port...   \n",
       "2  $4,109+ Studio               Oriana | 420 E 54th St, New York, NY   \n",
       "3  $3,575+ Studio         Waterside | 25 Waterside Plz, New York, NY   \n",
       "4  $3,245+ Studio           THE BELLSLIP | 1 Bell Slip, Brooklyn, NY   \n",
       "\n",
       "                                      space  \n",
       "0    2 bds2 ba906 sqft - Apartment for rent  \n",
       "1     1 bd1 ba765 sqft - Apartment for rent  \n",
       "2  $5,326+ 1 bd$6,636+ 2 bds$11,672+ 3 bds   \n",
       "3   $3,995+ 1 bd$5,525+ 2 bds$7,875+ 3 bds   \n",
       "4                $4,723+ 1 bd$6,600+ 2 bds   "
      ]
     },
     "execution_count": 15,
     "metadata": {},
     "output_type": "execute_result"
    }
   ],
   "source": [
    "import pandas as pd\n",
    "import json\n",
    "with open(\"./output.json\", \"r\") as file:\n",
    "    data = json.load(file)\n",
    "data_flat = [item for sublist in data for item in sublist]\n",
    "df = pd.DataFrame(data_flat)\n",
    "df.to_csv(\"./unprocessed.csv\")\n",
    "df.head()"
   ]
  },
  {
   "attachments": {},
   "cell_type": "markdown",
   "metadata": {},
   "source": [
    "# Data Issues\n",
    " This data still requires more processing as it is very messy</br>\n",
    "* *(Zillow likely does this on purpose to make the data more difficult to collect and process)*</br>\n",
    "* Some entries include only one offering, while others may contain an offerring for studio, one-bed, two-bed, etc </br>\n",
    "* Some entries are also missing sqft information\n",
    "* There are also many different formats for address (Some separate complex name with \"|\" and some don't)"
   ]
  },
  {
   "attachments": {},
   "cell_type": "markdown",
   "metadata": {},
   "source": [
    "# Data Processing II"
   ]
  },
  {
   "attachments": {},
   "cell_type": "markdown",
   "metadata": {},
   "source": [
    "# References\n",
    "1. https://medium.com/pipeline-a-data-engineering-resource/scrape-clean-and-store-zillow-apartment-data-etl-pipeline-907858b67e98\n",
    "2. https://stackoverflow.com/questions/952914/how-do-i-make-a-flat-list-out-of-a-list-of-lists\n"
   ]
  },
  {
   "cell_type": "markdown",
   "metadata": {},
   "source": []
  }
 ],
 "metadata": {
  "kernelspec": {
   "display_name": "web-scrape",
   "language": "python",
   "name": "python3"
  },
  "language_info": {
   "codemirror_mode": {
    "name": "ipython",
    "version": 3
   },
   "file_extension": ".py",
   "mimetype": "text/x-python",
   "name": "python",
   "nbconvert_exporter": "python",
   "pygments_lexer": "ipython3",
   "version": "3.10.11"
  },
  "orig_nbformat": 4,
  "vscode": {
   "interpreter": {
    "hash": "d9fa15b5f3e0e97501fb1049c08ab4dec8eb77c035656aa8b07e300206a2a094"
   }
  }
 },
 "nbformat": 4,
 "nbformat_minor": 2
}
